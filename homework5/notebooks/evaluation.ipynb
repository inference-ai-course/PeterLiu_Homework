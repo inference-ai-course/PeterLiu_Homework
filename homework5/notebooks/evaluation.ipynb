{
 "cells": [
  {
   "cell_type": "markdown",
   "id": "79865c88",
   "metadata": {},
   "source": [
    "# Load index, imports, embedding functions"
   ]
  },
  {
   "cell_type": "code",
   "execution_count": 17,
   "id": "51ba543e",
   "metadata": {},
   "outputs": [
    {
     "name": "stdout",
     "output_type": "stream",
     "text": [
      "Recall@3 Vector: 0.700\n",
      "Recall@3 Keyword: 0.600\n",
      "Recall@3 Hybrid: 0.300\n"
     ]
    }
   ],
   "source": [
    "# evaluation.ipynb (示范代码)\n",
    "\n",
    "import sys\n",
    "sys.path.append('../')  # 调整为你的项目根目录，确保能导入src包\n",
    "\n",
    "from src.embedding import embed_text\n",
    "from src.search import search_faiss, search_keyword, hybrid_search\n",
    "import numpy as np\n",
    "\n",
    "# 测试查询和对应的“相关文档ID” (根据你数据实际修改)\n",
    "test_queries = {\n",
    "    \"machine learning\": [1, 5],\n",
    "    \"natural language processing\": [2, 7],\n",
    "    \"deep neural networks\": [0, 3],\n",
    "    \"information retrieval\": [4, 6],\n",
    "    \"transformer models\": [8],\n",
    "    \"convolutional networks\": [1, 9],\n",
    "    \"unsupervised learning\": [2, 5],\n",
    "    \"reinforcement learning\": [0, 7],\n",
    "    \"transfer learning\": [3, 8],\n",
    "    \"language models\": [4, 9],\n",
    "}\n",
    "\n",
    "def recall_at_k(results, relevant_ids, k=3):\n",
    "    hits = 0\n",
    "    for res in results[:k]:\n",
    "        doc_id = res[0] if isinstance(res, (list, tuple)) else res\n",
    "        if doc_id in relevant_ids:\n",
    "            hits = 1\n",
    "            break\n",
    "    return hits\n",
    "\n",
    "recalls = {'vector': [], 'keyword': [], 'hybrid': []}\n",
    "\n",
    "for query, relevant in test_queries.items():\n",
    "    emb = embed_text(query)\n",
    "    vec_res = search_faiss(emb, top_k=3)\n",
    "    key_res = search_keyword(query, top_k=3)\n",
    "    hyb_res = hybrid_search(emb, search_faiss, search_keyword, query, top_k=3)\n",
    "\n",
    "    recalls['vector'].append(recall_at_k(vec_res, relevant))\n",
    "    recalls['keyword'].append(recall_at_k(key_res, relevant))\n",
    "    recalls['hybrid'].append(recall_at_k(hyb_res, relevant))\n",
    "\n",
    "print(f\"Recall@3 Vector: {np.mean(recalls['vector']):.3f}\")\n",
    "print(f\"Recall@3 Keyword: {np.mean(recalls['keyword']):.3f}\")\n",
    "print(f\"Recall@3 Hybrid: {np.mean(recalls['hybrid']):.3f}\")\n"
   ]
  }
 ],
 "metadata": {
  "kernelspec": {
   "display_name": "class5_env",
   "language": "python",
   "name": "python3"
  },
  "language_info": {
   "codemirror_mode": {
    "name": "ipython",
    "version": 3
   },
   "file_extension": ".py",
   "mimetype": "text/x-python",
   "name": "python",
   "nbconvert_exporter": "python",
   "pygments_lexer": "ipython3",
   "version": "3.10.18"
  }
 },
 "nbformat": 4,
 "nbformat_minor": 5
}
