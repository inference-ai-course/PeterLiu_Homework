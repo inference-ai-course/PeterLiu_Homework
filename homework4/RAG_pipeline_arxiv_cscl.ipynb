{
  "cells": [
    {
      "cell_type": "markdown",
      "metadata": {},
      "source": [
        "## \ud83d\udce5 Step 1: Extract Text from PDF"
      ]
    },
    {
      "cell_type": "code",
      "execution_count": null,
      "metadata": {},
      "outputs": [],
      "source": [
        "import fitz  # PyMuPDF\n",
        "\n",
        "def extract_text_from_pdf(pdf_path: str) -> str:\n",
        "    \"\"\"\n",
        "    Open a PDF and extract all text as a single string.\n",
        "    \"\"\"\n",
        "    doc = fitz.open(pdf_path)\n",
        "    pages = []\n",
        "    for page in doc:\n",
        "        page_text = page.get_text()\n",
        "        pages.append(page_text)\n",
        "    return \"\\n\".join(pages)"
      ]
    },
    {
      "cell_type": "markdown",
      "metadata": {},
      "source": [
        "## \ud83e\udde9 Step 2: Chunk Text (Sliding Window)"
      ]
    },
    {
      "cell_type": "code",
      "execution_count": null,
      "metadata": {},
      "outputs": [],
      "source": [
        "from typing import List\n",
        "\n",
        "def chunk_text(text: str, max_tokens: int = 512, overlap: int = 50) -> List[str]:\n",
        "    tokens = text.split()\n",
        "    chunks = []\n",
        "    step = max_tokens - overlap\n",
        "    for i in range(0, len(tokens), step):\n",
        "        chunk = tokens[i:i + max_tokens]\n",
        "        chunks.append(\" \".join(chunk))\n",
        "    return chunks"
      ]
    },
    {
      "cell_type": "markdown",
      "metadata": {},
      "source": [
        "## \ud83d\udd0e Step 3: Generate Embeddings"
      ]
    },
    {
      "cell_type": "code",
      "execution_count": null,
      "metadata": {},
      "outputs": [],
      "source": [
        "from sentence_transformers import SentenceTransformer\n",
        "\n",
        "# Load model\n",
        "embedding_model = SentenceTransformer(\"all-MiniLM-L6-v2\")\n",
        "\n",
        "def embed_chunks(chunks: List[str]) -> List[List[float]]:\n",
        "    return embedding_model.encode(chunks, show_progress_bar=True)"
      ]
    },
    {
      "cell_type": "markdown",
      "metadata": {},
      "source": [
        "## \ud83d\uddc3\ufe0f Step 4: Build FAISS Index and Search"
      ]
    },
    {
      "cell_type": "code",
      "execution_count": null,
      "metadata": {},
      "outputs": [],
      "source": [
        "import faiss\n",
        "import numpy as np\n",
        "\n",
        "def build_faiss_index(embeddings: List[List[float]]) -> faiss.IndexFlatL2:\n",
        "    dim = len(embeddings[0])\n",
        "    index = faiss.IndexFlatL2(dim)\n",
        "    index.add(np.array(embeddings).astype(\"float32\"))\n",
        "    return index\n",
        "\n",
        "def search_index(query: str, model: SentenceTransformer, index: faiss.Index, chunks: List[str], top_k: int = 3):\n",
        "    query_vector = model.encode([query])[0].astype(\"float32\").reshape(1, -1)\n",
        "    distances, indices = index.search(query_vector, top_k)\n",
        "    return [chunks[i] for i in indices[0]]"
      ]
    },
    {
      "cell_type": "markdown",
      "metadata": {},
      "source": [
        "## \ud83d\ude80 Step 5: FastAPI Search Endpoint"
      ]
    },
    {
      "cell_type": "code",
      "execution_count": null,
      "metadata": {},
      "outputs": [],
      "source": [
        "from fastapi import FastAPI\n",
        "from pydantic import BaseModel\n",
        "\n",
        "app = FastAPI()\n",
        "\n",
        "# Initialize FAISS index and chunks before calling this endpoint\n",
        "class QueryRequest(BaseModel):\n",
        "    q: str\n",
        "\n",
        "@app.get(\"/\")\n",
        "def root():\n",
        "    return {\"message\": \"RAG PDF Search API\"}\n",
        "\n",
        "@app.post(\"/search\")\n",
        "def search(request: QueryRequest):\n",
        "    query = request.q\n",
        "    results = search_index(query, embedding_model, faiss_index, chunks)\n",
        "    return {\"query\": query, \"results\": results}"
      ]
    }
  ],
  "metadata": {
    "kernelspec": {
      "display_name": "Python 3",
      "language": "python",
      "name": "python3"
    },
    "language_info": {
      "name": "python",
      "version": "3.10"
    }
  },
  "nbformat": 4,
  "nbformat_minor": 5
}