{
 "cells": [
  {
   "cell_type": "code",
   "execution_count": 23,
   "id": "3d7b5ef8",
   "metadata": {},
   "outputs": [
    {
     "name": "stderr",
     "output_type": "stream",
     "text": [
      "1131.81s - pydevd: Sending message related to process being replaced timed-out after 5 seconds\n"
     ]
    },
    {
     "name": "stdout",
     "output_type": "stream",
     "text": [
      "Requirement already satisfied: fastapi in /opt/anaconda3/envs/class3_env/lib/python3.10/site-packages (0.116.1)\n",
      "Requirement already satisfied: uvicorn in /opt/anaconda3/envs/class3_env/lib/python3.10/site-packages (0.35.0)\n",
      "Requirement already satisfied: edge-tts in /opt/anaconda3/envs/class3_env/lib/python3.10/site-packages (7.0.2)\n",
      "Requirement already satisfied: faster-whisper in /opt/anaconda3/envs/class3_env/lib/python3.10/site-packages (1.1.1)\n",
      "Requirement already satisfied: requests in /opt/anaconda3/envs/class3_env/lib/python3.10/site-packages (2.32.4)\n",
      "Requirement already satisfied: transformers in /opt/anaconda3/envs/class3_env/lib/python3.10/site-packages (4.54.1)\n",
      "Collecting torch\n",
      "  Using cached torch-2.7.1-cp310-none-macosx_11_0_arm64.whl.metadata (29 kB)\n",
      "Requirement already satisfied: starlette<0.48.0,>=0.40.0 in /opt/anaconda3/envs/class3_env/lib/python3.10/site-packages (from fastapi) (0.47.2)\n",
      "Requirement already satisfied: pydantic!=1.8,!=1.8.1,!=2.0.0,!=2.0.1,!=2.1.0,<3.0.0,>=1.7.4 in /opt/anaconda3/envs/class3_env/lib/python3.10/site-packages (from fastapi) (2.11.7)\n",
      "Requirement already satisfied: typing-extensions>=4.8.0 in /opt/anaconda3/envs/class3_env/lib/python3.10/site-packages (from fastapi) (4.14.1)\n",
      "Requirement already satisfied: annotated-types>=0.6.0 in /opt/anaconda3/envs/class3_env/lib/python3.10/site-packages (from pydantic!=1.8,!=1.8.1,!=2.0.0,!=2.0.1,!=2.1.0,<3.0.0,>=1.7.4->fastapi) (0.7.0)\n",
      "Requirement already satisfied: pydantic-core==2.33.2 in /opt/anaconda3/envs/class3_env/lib/python3.10/site-packages (from pydantic!=1.8,!=1.8.1,!=2.0.0,!=2.0.1,!=2.1.0,<3.0.0,>=1.7.4->fastapi) (2.33.2)\n",
      "Requirement already satisfied: typing-inspection>=0.4.0 in /opt/anaconda3/envs/class3_env/lib/python3.10/site-packages (from pydantic!=1.8,!=1.8.1,!=2.0.0,!=2.0.1,!=2.1.0,<3.0.0,>=1.7.4->fastapi) (0.4.1)\n",
      "Requirement already satisfied: anyio<5,>=3.6.2 in /opt/anaconda3/envs/class3_env/lib/python3.10/site-packages (from starlette<0.48.0,>=0.40.0->fastapi) (4.9.0)\n",
      "Requirement already satisfied: exceptiongroup>=1.0.2 in /opt/anaconda3/envs/class3_env/lib/python3.10/site-packages (from anyio<5,>=3.6.2->starlette<0.48.0,>=0.40.0->fastapi) (1.3.0)\n",
      "Requirement already satisfied: idna>=2.8 in /opt/anaconda3/envs/class3_env/lib/python3.10/site-packages (from anyio<5,>=3.6.2->starlette<0.48.0,>=0.40.0->fastapi) (3.10)\n",
      "Requirement already satisfied: sniffio>=1.1 in /opt/anaconda3/envs/class3_env/lib/python3.10/site-packages (from anyio<5,>=3.6.2->starlette<0.48.0,>=0.40.0->fastapi) (1.3.1)\n",
      "Requirement already satisfied: click>=7.0 in /opt/anaconda3/envs/class3_env/lib/python3.10/site-packages (from uvicorn) (8.2.1)\n",
      "Requirement already satisfied: h11>=0.8 in /opt/anaconda3/envs/class3_env/lib/python3.10/site-packages (from uvicorn) (0.16.0)\n",
      "Requirement already satisfied: aiohttp<4.0.0,>=3.8.0 in /opt/anaconda3/envs/class3_env/lib/python3.10/site-packages (from edge-tts) (3.12.15)\n",
      "Requirement already satisfied: certifi>=2023.11.17 in /opt/anaconda3/envs/class3_env/lib/python3.10/site-packages (from edge-tts) (2025.8.3)\n",
      "Requirement already satisfied: srt<4.0.0,>=3.4.1 in /opt/anaconda3/envs/class3_env/lib/python3.10/site-packages (from edge-tts) (3.5.3)\n",
      "Requirement already satisfied: tabulate<1.0.0,>=0.4.4 in /opt/anaconda3/envs/class3_env/lib/python3.10/site-packages (from edge-tts) (0.9.0)\n",
      "Requirement already satisfied: aiohappyeyeballs>=2.5.0 in /opt/anaconda3/envs/class3_env/lib/python3.10/site-packages (from aiohttp<4.0.0,>=3.8.0->edge-tts) (2.6.1)\n",
      "Requirement already satisfied: aiosignal>=1.4.0 in /opt/anaconda3/envs/class3_env/lib/python3.10/site-packages (from aiohttp<4.0.0,>=3.8.0->edge-tts) (1.4.0)\n",
      "Requirement already satisfied: async-timeout<6.0,>=4.0 in /opt/anaconda3/envs/class3_env/lib/python3.10/site-packages (from aiohttp<4.0.0,>=3.8.0->edge-tts) (5.0.1)\n",
      "Requirement already satisfied: attrs>=17.3.0 in /opt/anaconda3/envs/class3_env/lib/python3.10/site-packages (from aiohttp<4.0.0,>=3.8.0->edge-tts) (25.3.0)\n",
      "Requirement already satisfied: frozenlist>=1.1.1 in /opt/anaconda3/envs/class3_env/lib/python3.10/site-packages (from aiohttp<4.0.0,>=3.8.0->edge-tts) (1.7.0)\n",
      "Requirement already satisfied: multidict<7.0,>=4.5 in /opt/anaconda3/envs/class3_env/lib/python3.10/site-packages (from aiohttp<4.0.0,>=3.8.0->edge-tts) (6.6.3)\n",
      "Requirement already satisfied: propcache>=0.2.0 in /opt/anaconda3/envs/class3_env/lib/python3.10/site-packages (from aiohttp<4.0.0,>=3.8.0->edge-tts) (0.3.2)\n",
      "Requirement already satisfied: yarl<2.0,>=1.17.0 in /opt/anaconda3/envs/class3_env/lib/python3.10/site-packages (from aiohttp<4.0.0,>=3.8.0->edge-tts) (1.20.1)\n",
      "Requirement already satisfied: ctranslate2<5,>=4.0 in /opt/anaconda3/envs/class3_env/lib/python3.10/site-packages (from faster-whisper) (4.6.0)\n",
      "Requirement already satisfied: huggingface-hub>=0.13 in /opt/anaconda3/envs/class3_env/lib/python3.10/site-packages (from faster-whisper) (0.34.3)\n",
      "Requirement already satisfied: tokenizers<1,>=0.13 in /opt/anaconda3/envs/class3_env/lib/python3.10/site-packages (from faster-whisper) (0.21.4)\n",
      "Requirement already satisfied: onnxruntime<2,>=1.14 in /opt/anaconda3/envs/class3_env/lib/python3.10/site-packages (from faster-whisper) (1.22.1)\n",
      "Requirement already satisfied: av>=11 in /opt/anaconda3/envs/class3_env/lib/python3.10/site-packages (from faster-whisper) (15.0.0)\n",
      "Requirement already satisfied: tqdm in /opt/anaconda3/envs/class3_env/lib/python3.10/site-packages (from faster-whisper) (4.67.1)\n",
      "Requirement already satisfied: setuptools in /opt/anaconda3/envs/class3_env/lib/python3.10/site-packages (from ctranslate2<5,>=4.0->faster-whisper) (78.1.1)\n",
      "Requirement already satisfied: numpy in /opt/anaconda3/envs/class3_env/lib/python3.10/site-packages (from ctranslate2<5,>=4.0->faster-whisper) (2.2.6)\n",
      "Requirement already satisfied: pyyaml<7,>=5.3 in /opt/anaconda3/envs/class3_env/lib/python3.10/site-packages (from ctranslate2<5,>=4.0->faster-whisper) (6.0.2)\n",
      "Requirement already satisfied: coloredlogs in /opt/anaconda3/envs/class3_env/lib/python3.10/site-packages (from onnxruntime<2,>=1.14->faster-whisper) (15.0.1)\n",
      "Requirement already satisfied: flatbuffers in /opt/anaconda3/envs/class3_env/lib/python3.10/site-packages (from onnxruntime<2,>=1.14->faster-whisper) (25.2.10)\n",
      "Requirement already satisfied: packaging in /opt/anaconda3/envs/class3_env/lib/python3.10/site-packages (from onnxruntime<2,>=1.14->faster-whisper) (25.0)\n",
      "Requirement already satisfied: protobuf in /opt/anaconda3/envs/class3_env/lib/python3.10/site-packages (from onnxruntime<2,>=1.14->faster-whisper) (6.31.1)\n",
      "Requirement already satisfied: sympy in /opt/anaconda3/envs/class3_env/lib/python3.10/site-packages (from onnxruntime<2,>=1.14->faster-whisper) (1.14.0)\n",
      "Requirement already satisfied: filelock in /opt/anaconda3/envs/class3_env/lib/python3.10/site-packages (from huggingface-hub>=0.13->faster-whisper) (3.18.0)\n",
      "Requirement already satisfied: fsspec>=2023.5.0 in /opt/anaconda3/envs/class3_env/lib/python3.10/site-packages (from huggingface-hub>=0.13->faster-whisper) (2025.7.0)\n",
      "Requirement already satisfied: hf-xet<2.0.0,>=1.1.3 in /opt/anaconda3/envs/class3_env/lib/python3.10/site-packages (from huggingface-hub>=0.13->faster-whisper) (1.1.5)\n",
      "Requirement already satisfied: charset_normalizer<4,>=2 in /opt/anaconda3/envs/class3_env/lib/python3.10/site-packages (from requests) (3.4.2)\n",
      "Requirement already satisfied: urllib3<3,>=1.21.1 in /opt/anaconda3/envs/class3_env/lib/python3.10/site-packages (from requests) (2.5.0)\n",
      "Requirement already satisfied: regex!=2019.12.17 in /opt/anaconda3/envs/class3_env/lib/python3.10/site-packages (from transformers) (2025.7.34)\n",
      "Requirement already satisfied: safetensors>=0.4.3 in /opt/anaconda3/envs/class3_env/lib/python3.10/site-packages (from transformers) (0.5.3)\n",
      "Collecting networkx (from torch)\n",
      "  Using cached networkx-3.4.2-py3-none-any.whl.metadata (6.3 kB)\n",
      "Collecting jinja2 (from torch)\n",
      "  Using cached jinja2-3.1.6-py3-none-any.whl.metadata (2.9 kB)\n",
      "Requirement already satisfied: mpmath<1.4,>=1.1.0 in /opt/anaconda3/envs/class3_env/lib/python3.10/site-packages (from sympy->onnxruntime<2,>=1.14->faster-whisper) (1.3.0)\n",
      "Requirement already satisfied: humanfriendly>=9.1 in /opt/anaconda3/envs/class3_env/lib/python3.10/site-packages (from coloredlogs->onnxruntime<2,>=1.14->faster-whisper) (10.0)\n",
      "Collecting MarkupSafe>=2.0 (from jinja2->torch)\n",
      "  Using cached MarkupSafe-3.0.2-cp310-cp310-macosx_11_0_arm64.whl.metadata (4.0 kB)\n",
      "Using cached torch-2.7.1-cp310-none-macosx_11_0_arm64.whl (68.6 MB)\n",
      "Using cached jinja2-3.1.6-py3-none-any.whl (134 kB)\n",
      "Using cached MarkupSafe-3.0.2-cp310-cp310-macosx_11_0_arm64.whl (12 kB)\n",
      "Using cached networkx-3.4.2-py3-none-any.whl (1.7 MB)\n",
      "Installing collected packages: networkx, MarkupSafe, jinja2, torch\n",
      "\u001b[2K   \u001b[90m━━━━━━━━━━━━━━━━━━━━━━━━━━━━━━━━━━━━━━━━\u001b[0m \u001b[32m4/4\u001b[0m [torch]32m3/4\u001b[0m [torch]\n",
      "\u001b[1A\u001b[2KSuccessfully installed MarkupSafe-3.0.2 jinja2-3.1.6 networkx-3.4.2 torch-2.7.1\n"
     ]
    }
   ],
   "source": [
    "!pip install fastapi uvicorn edge-tts faster-whisper requests transformers torch"
   ]
  },
  {
   "cell_type": "code",
   "execution_count": 30,
   "id": "8fef92e5",
   "metadata": {},
   "outputs": [
    {
     "ename": "NameError",
     "evalue": "name 'torch' is not defined",
     "output_type": "error",
     "traceback": [
      "\u001b[0;31m---------------------------------------------------------------------------\u001b[0m",
      "\u001b[0;31mNameError\u001b[0m                                 Traceback (most recent call last)",
      "Cell \u001b[0;32mIn[30], line 5\u001b[0m\n\u001b[1;32m      2\u001b[0m \u001b[38;5;28;01mfrom\u001b[39;00m\u001b[38;5;250m \u001b[39m\u001b[38;5;21;01mtransformers\u001b[39;00m\u001b[38;5;250m \u001b[39m\u001b[38;5;28;01mimport\u001b[39;00m pipeline\n\u001b[1;32m      4\u001b[0m \u001b[38;5;66;03m# 初始化 LLaMA3 pipeline（你必须有访问权 + 模型文件）\u001b[39;00m\n\u001b[0;32m----> 5\u001b[0m llm \u001b[38;5;241m=\u001b[39m \u001b[43mpipeline\u001b[49m\u001b[43m(\u001b[49m\n\u001b[1;32m      6\u001b[0m \u001b[43m    \u001b[49m\u001b[38;5;124;43m\"\u001b[39;49m\u001b[38;5;124;43mtext-generation\u001b[39;49m\u001b[38;5;124;43m\"\u001b[39;49m\u001b[43m,\u001b[49m\n\u001b[1;32m      7\u001b[0m \u001b[43m    \u001b[49m\u001b[43mmodel\u001b[49m\u001b[38;5;241;43m=\u001b[39;49m\u001b[38;5;124;43m\"\u001b[39;49m\u001b[38;5;124;43mmeta-llama/Llama-3.1-8B\u001b[39;49m\u001b[38;5;124;43m\"\u001b[39;49m\u001b[43m,\u001b[49m\n\u001b[1;32m      8\u001b[0m \u001b[43m    \u001b[49m\u001b[43mmax_new_tokens\u001b[49m\u001b[38;5;241;43m=\u001b[39;49m\u001b[38;5;241;43m256\u001b[39;49m\u001b[43m,\u001b[49m\n\u001b[1;32m      9\u001b[0m \u001b[43m    \u001b[49m\u001b[43mdo_sample\u001b[49m\u001b[38;5;241;43m=\u001b[39;49m\u001b[38;5;28;43;01mTrue\u001b[39;49;00m\n\u001b[1;32m     10\u001b[0m \u001b[43m)\u001b[49m\n\u001b[1;32m     13\u001b[0m \u001b[38;5;129m@app\u001b[39m\u001b[38;5;241m.\u001b[39mpost(\u001b[38;5;124m\"\u001b[39m\u001b[38;5;124m/chat/\u001b[39m\u001b[38;5;124m\"\u001b[39m)\n\u001b[1;32m     14\u001b[0m \u001b[38;5;28;01masync\u001b[39;00m \u001b[38;5;28;01mdef\u001b[39;00m\u001b[38;5;250m \u001b[39m\u001b[38;5;21mchat\u001b[39m(file: UploadFile \u001b[38;5;241m=\u001b[39m File(\u001b[38;5;241m.\u001b[39m\u001b[38;5;241m.\u001b[39m\u001b[38;5;241m.\u001b[39m)):\n\u001b[1;32m     15\u001b[0m     \u001b[38;5;28;01mtry\u001b[39;00m:\n\u001b[1;32m     16\u001b[0m         \u001b[38;5;66;03m# 保存上传音频\u001b[39;00m\n",
      "File \u001b[0;32m/opt/anaconda3/envs/class3_env/lib/python3.10/site-packages/transformers/pipelines/__init__.py:998\u001b[0m, in \u001b[0;36mpipeline\u001b[0;34m(task, model, config, tokenizer, feature_extractor, image_processor, processor, framework, revision, use_fast, token, device, device_map, torch_dtype, trust_remote_code, model_kwargs, pipeline_class, **kwargs)\u001b[0m\n\u001b[1;32m    993\u001b[0m         \u001b[38;5;28;01mraise\u001b[39;00m \u001b[38;5;167;01mValueError\u001b[39;00m(\n\u001b[1;32m    994\u001b[0m             \u001b[38;5;124m'\u001b[39m\u001b[38;5;124mYou cannot use both `pipeline(... torch_dtype=..., model_kwargs=\u001b[39m\u001b[38;5;124m{\u001b[39m\u001b[38;5;124m\"\u001b[39m\u001b[38;5;124mtorch_dtype\u001b[39m\u001b[38;5;124m\"\u001b[39m\u001b[38;5;124m:...})` as those\u001b[39m\u001b[38;5;124m'\u001b[39m\n\u001b[1;32m    995\u001b[0m             \u001b[38;5;124m\"\u001b[39m\u001b[38;5;124m arguments might conflict, use only one.)\u001b[39m\u001b[38;5;124m\"\u001b[39m\n\u001b[1;32m    996\u001b[0m         )\n\u001b[1;32m    997\u001b[0m \u001b[38;5;28;01mif\u001b[39;00m torch_dtype \u001b[38;5;129;01mis\u001b[39;00m \u001b[38;5;129;01mnot\u001b[39;00m \u001b[38;5;28;01mNone\u001b[39;00m:\n\u001b[0;32m--> 998\u001b[0m     \u001b[38;5;28;01mif\u001b[39;00m \u001b[38;5;28misinstance\u001b[39m(torch_dtype, \u001b[38;5;28mstr\u001b[39m) \u001b[38;5;129;01mand\u001b[39;00m \u001b[38;5;28mhasattr\u001b[39m(\u001b[43mtorch\u001b[49m, torch_dtype):\n\u001b[1;32m    999\u001b[0m         torch_dtype \u001b[38;5;241m=\u001b[39m \u001b[38;5;28mgetattr\u001b[39m(torch, torch_dtype)\n\u001b[1;32m   1000\u001b[0m     model_kwargs[\u001b[38;5;124m\"\u001b[39m\u001b[38;5;124mtorch_dtype\u001b[39m\u001b[38;5;124m\"\u001b[39m] \u001b[38;5;241m=\u001b[39m torch_dtype\n",
      "\u001b[0;31mNameError\u001b[0m: name 'torch' is not defined"
     ]
    }
   ],
   "source": [
    "import torch\n",
    "from transformers import pipeline\n",
    "\n",
    "# 初始化 LLaMA3 pipeline（你必须有访问权 + 模型文件）\n",
    "llm = pipeline(\n",
    "    \"text-generation\",\n",
    "    model=\"meta-llama/Llama-3.1-8B\",\n",
    "    max_new_tokens=256,\n",
    "    do_sample=True\n",
    ")\n",
    "\n",
    "\n",
    "@app.post(\"/chat/\")\n",
    "async def chat(file: UploadFile = File(...)):\n",
    "    try:\n",
    "        # 保存上传音频\n",
    "        with tempfile.NamedTemporaryFile(delete=False, suffix=\".wav\") as tmp:\n",
    "            tmp.write(await file.read())\n",
    "            input_path = tmp.name\n",
    "\n",
    "        # Step 1: 语音转文字\n",
    "        segments, _ = model.transcribe(input_path)\n",
    "        user_text = \"\".join([s.text for s in segments]).strip()\n",
    "\n",
    "        if not user_text:\n",
    "            raise Exception(\"语音识别结果为空，可能是音频不清晰或格式问题\")\n",
    "\n",
    "        # Step 2: 构造上下文提示词\n",
    "        conversation_history.append(f\"User: {user_text}\")\n",
    "        prompt = \"\\n\".join(conversation_history) + \"\\nAssistant:\"\n",
    "\n",
    "        # 调用本地 LLM 生成回答\n",
    "        output = llm(prompt)[0]['generated_text']\n",
    "        reply = output[len(prompt):].strip().split(\"\\n\")[0]  # 取首句回答\n",
    "        conversation_history.append(f\"Assistant: {reply}\")\n",
    "\n",
    "        # Step 3: TTS 合成回复音频\n",
    "        output_path = input_path.replace(\".wav\", \"_response.wav\")\n",
    "        await synthesize(reply, output_path)\n",
    "\n",
    "        return FileResponse(output_path, media_type=\"audio/wav\", filename=\"response.wav\")\n",
    "\n",
    "    except Exception as e:\n",
    "        print(\"❌ 服务出错:\", e)\n",
    "        raise HTTPException(status_code=500, detail=str(e))"
   ]
  },
  {
   "cell_type": "code",
   "execution_count": null,
   "id": "e8bf82bd",
   "metadata": {},
   "outputs": [],
   "source": []
  }
 ],
 "metadata": {
  "kernelspec": {
   "display_name": "class3_env",
   "language": "python",
   "name": "python3"
  },
  "language_info": {
   "codemirror_mode": {
    "name": "ipython",
    "version": 3
   },
   "file_extension": ".py",
   "mimetype": "text/x-python",
   "name": "python",
   "nbconvert_exporter": "python",
   "pygments_lexer": "ipython3",
   "version": "3.10.18"
  }
 },
 "nbformat": 4,
 "nbformat_minor": 5
}
